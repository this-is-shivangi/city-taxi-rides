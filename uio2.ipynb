{
 "cells": [
  {
   "cell_type": "code",
   "execution_count": 1,
   "metadata": {},
   "outputs": [],
   "source": [
    "import numpy as np\n",
    "import matplotlib.pyplot as plt\n",
    "import seaborn as sns\n",
    "import pandas as pd"
   ]
  },
  {
   "cell_type": "code",
   "execution_count": 4,
   "metadata": {},
   "outputs": [],
   "source": [
    "url=\"C:/Users/shivangi shukla/Desktop/ml project/uio_clean.csv\""
   ]
  },
  {
   "cell_type": "code",
   "execution_count": 5,
   "metadata": {},
   "outputs": [
    {
     "data": {
      "text/html": [
       "<div>\n",
       "<style scoped>\n",
       "    .dataframe tbody tr th:only-of-type {\n",
       "        vertical-align: middle;\n",
       "    }\n",
       "\n",
       "    .dataframe tbody tr th {\n",
       "        vertical-align: top;\n",
       "    }\n",
       "\n",
       "    .dataframe thead th {\n",
       "        text-align: right;\n",
       "    }\n",
       "</style>\n",
       "<table border=\"1\" class=\"dataframe\">\n",
       "  <thead>\n",
       "    <tr style=\"text-align: right;\">\n",
       "      <th></th>\n",
       "      <th>id</th>\n",
       "      <th>vendor_id</th>\n",
       "      <th>pickup_datetime</th>\n",
       "      <th>dropoff_datetime</th>\n",
       "      <th>pickup_longitude</th>\n",
       "      <th>pickup_latitude</th>\n",
       "      <th>dropoff_longitude</th>\n",
       "      <th>dropoff_latitude</th>\n",
       "      <th>store_and_fwd_flag</th>\n",
       "      <th>trip_duration</th>\n",
       "      <th>dist_meters</th>\n",
       "      <th>wait_sec</th>\n",
       "    </tr>\n",
       "  </thead>\n",
       "  <tbody>\n",
       "    <tr>\n",
       "      <th>0</th>\n",
       "      <td>1</td>\n",
       "      <td>Quito</td>\n",
       "      <td>2016-09-17 09:32:06</td>\n",
       "      <td>2016-09-17 10:05:51</td>\n",
       "      <td>-78.503922</td>\n",
       "      <td>-0.232824</td>\n",
       "      <td>-78.549447</td>\n",
       "      <td>-0.361363</td>\n",
       "      <td>N</td>\n",
       "      <td>2025</td>\n",
       "      <td>24228</td>\n",
       "      <td>346</td>\n",
       "    </tr>\n",
       "    <tr>\n",
       "      <th>1</th>\n",
       "      <td>2</td>\n",
       "      <td>Quito</td>\n",
       "      <td>2016-09-18 04:03:20</td>\n",
       "      <td>2016-09-18 04:26:30</td>\n",
       "      <td>-78.440306</td>\n",
       "      <td>0.006789</td>\n",
       "      <td>-78.490786</td>\n",
       "      <td>-0.104836</td>\n",
       "      <td>N</td>\n",
       "      <td>1390</td>\n",
       "      <td>16680</td>\n",
       "      <td>456</td>\n",
       "    </tr>\n",
       "    <tr>\n",
       "      <th>2</th>\n",
       "      <td>3</td>\n",
       "      <td>Quito</td>\n",
       "      <td>2016-09-16 06:29:36</td>\n",
       "      <td>2016-09-18 06:41:33</td>\n",
       "      <td>-78.469551</td>\n",
       "      <td>-0.143636</td>\n",
       "      <td>-78.470277</td>\n",
       "      <td>-0.131083</td>\n",
       "      <td>N</td>\n",
       "      <td>130317</td>\n",
       "      <td>1987</td>\n",
       "      <td>290</td>\n",
       "    </tr>\n",
       "    <tr>\n",
       "      <th>3</th>\n",
       "      <td>4</td>\n",
       "      <td>Quito</td>\n",
       "      <td>2016-09-18 05:57:47</td>\n",
       "      <td>2016-09-18 06:30:00</td>\n",
       "      <td>-78.558076</td>\n",
       "      <td>-0.278241</td>\n",
       "      <td>-78.430220</td>\n",
       "      <td>-0.201934</td>\n",
       "      <td>N</td>\n",
       "      <td>1933</td>\n",
       "      <td>25146</td>\n",
       "      <td>302</td>\n",
       "    </tr>\n",
       "    <tr>\n",
       "      <th>4</th>\n",
       "      <td>5</td>\n",
       "      <td>Quito</td>\n",
       "      <td>2016-09-18 07:58:42</td>\n",
       "      <td>2016-09-18 08:14:29</td>\n",
       "      <td>-78.521818</td>\n",
       "      <td>-0.208480</td>\n",
       "      <td>-78.504558</td>\n",
       "      <td>-0.222462</td>\n",
       "      <td>N</td>\n",
       "      <td>948</td>\n",
       "      <td>4625</td>\n",
       "      <td>314</td>\n",
       "    </tr>\n",
       "  </tbody>\n",
       "</table>\n",
       "</div>"
      ],
      "text/plain": [
       "   id vendor_id     pickup_datetime    dropoff_datetime  pickup_longitude  \\\n",
       "0   1     Quito 2016-09-17 09:32:06 2016-09-17 10:05:51        -78.503922   \n",
       "1   2     Quito 2016-09-18 04:03:20 2016-09-18 04:26:30        -78.440306   \n",
       "2   3     Quito 2016-09-16 06:29:36 2016-09-18 06:41:33        -78.469551   \n",
       "3   4     Quito 2016-09-18 05:57:47 2016-09-18 06:30:00        -78.558076   \n",
       "4   5     Quito 2016-09-18 07:58:42 2016-09-18 08:14:29        -78.521818   \n",
       "\n",
       "   pickup_latitude  dropoff_longitude  dropoff_latitude store_and_fwd_flag  \\\n",
       "0        -0.232824         -78.549447         -0.361363                  N   \n",
       "1         0.006789         -78.490786         -0.104836                  N   \n",
       "2        -0.143636         -78.470277         -0.131083                  N   \n",
       "3        -0.278241         -78.430220         -0.201934                  N   \n",
       "4        -0.208480         -78.504558         -0.222462                  N   \n",
       "\n",
       "   trip_duration  dist_meters  wait_sec  \n",
       "0           2025        24228       346  \n",
       "1           1390        16680       456  \n",
       "2         130317         1987       290  \n",
       "3           1933        25146       302  \n",
       "4            948         4625       314  "
      ]
     },
     "execution_count": 5,
     "metadata": {},
     "output_type": "execute_result"
    }
   ],
   "source": [
    "df=pd.read_csv(url,parse_dates=['pickup_datetime','dropoff_datetime'])\n",
    "df.head()"
   ]
  },
  {
   "cell_type": "code",
   "execution_count": 4,
   "metadata": {},
   "outputs": [
    {
     "name": "stdout",
     "output_type": "stream",
     "text": [
      "<class 'pandas.core.frame.DataFrame'>\n",
      "RangeIndex: 32366 entries, 0 to 32365\n",
      "Data columns (total 12 columns):\n",
      "id                    32366 non-null int64\n",
      "vendor_id             32366 non-null object\n",
      "pickup_datetime       32366 non-null datetime64[ns]\n",
      "dropoff_datetime      32366 non-null datetime64[ns]\n",
      "pickup_longitude      32366 non-null float64\n",
      "pickup_latitude       32366 non-null float64\n",
      "dropoff_longitude     32366 non-null float64\n",
      "dropoff_latitude      32366 non-null float64\n",
      "store_and_fwd_flag    32366 non-null object\n",
      "trip_duration         32366 non-null int64\n",
      "dist_meters           32366 non-null int64\n",
      "wait_sec              32366 non-null int64\n",
      "dtypes: datetime64[ns](2), float64(4), int64(4), object(2)\n",
      "memory usage: 3.0+ MB\n"
     ]
    }
   ],
   "source": [
    "df.info()"
   ]
  },
  {
   "cell_type": "code",
   "execution_count": 5,
   "metadata": {},
   "outputs": [
    {
     "data": {
      "text/html": [
       "<div>\n",
       "<style scoped>\n",
       "    .dataframe tbody tr th:only-of-type {\n",
       "        vertical-align: middle;\n",
       "    }\n",
       "\n",
       "    .dataframe tbody tr th {\n",
       "        vertical-align: top;\n",
       "    }\n",
       "\n",
       "    .dataframe thead th {\n",
       "        text-align: right;\n",
       "    }\n",
       "</style>\n",
       "<table border=\"1\" class=\"dataframe\">\n",
       "  <thead>\n",
       "    <tr style=\"text-align: right;\">\n",
       "      <th></th>\n",
       "      <th>id</th>\n",
       "      <th>pickup_longitude</th>\n",
       "      <th>pickup_latitude</th>\n",
       "      <th>dropoff_longitude</th>\n",
       "      <th>dropoff_latitude</th>\n",
       "      <th>trip_duration</th>\n",
       "      <th>dist_meters</th>\n",
       "      <th>wait_sec</th>\n",
       "    </tr>\n",
       "  </thead>\n",
       "  <tbody>\n",
       "    <tr>\n",
       "      <th>count</th>\n",
       "      <td>32366.000000</td>\n",
       "      <td>32366.000000</td>\n",
       "      <td>32366.000000</td>\n",
       "      <td>32366.000000</td>\n",
       "      <td>32366.000000</td>\n",
       "      <td>3.236600e+04</td>\n",
       "      <td>3.236600e+04</td>\n",
       "      <td>3.236600e+04</td>\n",
       "    </tr>\n",
       "    <tr>\n",
       "      <th>mean</th>\n",
       "      <td>16183.500000</td>\n",
       "      <td>-78.492371</td>\n",
       "      <td>-0.189042</td>\n",
       "      <td>-78.492901</td>\n",
       "      <td>-0.191341</td>\n",
       "      <td>4.138239e+04</td>\n",
       "      <td>7.302745e+04</td>\n",
       "      <td>2.204058e+07</td>\n",
       "    </tr>\n",
       "    <tr>\n",
       "      <th>std</th>\n",
       "      <td>9343.403743</td>\n",
       "      <td>0.043108</td>\n",
       "      <td>0.076153</td>\n",
       "      <td>0.044783</td>\n",
       "      <td>0.085623</td>\n",
       "      <td>5.842226e+05</td>\n",
       "      <td>1.193671e+07</td>\n",
       "      <td>7.311736e+08</td>\n",
       "    </tr>\n",
       "    <tr>\n",
       "      <th>min</th>\n",
       "      <td>1.000000</td>\n",
       "      <td>-80.681697</td>\n",
       "      <td>-3.454279</td>\n",
       "      <td>-80.681721</td>\n",
       "      <td>-3.574739</td>\n",
       "      <td>-3.887110e+05</td>\n",
       "      <td>1.100000e+01</td>\n",
       "      <td>0.000000e+00</td>\n",
       "    </tr>\n",
       "    <tr>\n",
       "      <th>25%</th>\n",
       "      <td>8092.250000</td>\n",
       "      <td>-78.505867</td>\n",
       "      <td>-0.218344</td>\n",
       "      <td>-78.505734</td>\n",
       "      <td>-0.220508</td>\n",
       "      <td>5.000000e+02</td>\n",
       "      <td>2.148000e+03</td>\n",
       "      <td>1.070000e+02</td>\n",
       "    </tr>\n",
       "    <tr>\n",
       "      <th>50%</th>\n",
       "      <td>16183.500000</td>\n",
       "      <td>-78.490135</td>\n",
       "      <td>-0.181979</td>\n",
       "      <td>-78.490073</td>\n",
       "      <td>-0.185721</td>\n",
       "      <td>8.970000e+02</td>\n",
       "      <td>4.124000e+03</td>\n",
       "      <td>2.430000e+02</td>\n",
       "    </tr>\n",
       "    <tr>\n",
       "      <th>75%</th>\n",
       "      <td>24274.750000</td>\n",
       "      <td>-78.475783</td>\n",
       "      <td>-0.148715</td>\n",
       "      <td>-78.477443</td>\n",
       "      <td>-0.149867</td>\n",
       "      <td>1.710000e+03</td>\n",
       "      <td>7.475000e+03</td>\n",
       "      <td>4.990000e+02</td>\n",
       "    </tr>\n",
       "    <tr>\n",
       "      <th>max</th>\n",
       "      <td>32366.000000</td>\n",
       "      <td>-78.009669</td>\n",
       "      <td>0.866441</td>\n",
       "      <td>-77.710158</td>\n",
       "      <td>0.866759</td>\n",
       "      <td>7.002605e+07</td>\n",
       "      <td>2.147484e+09</td>\n",
       "      <td>9.516306e+10</td>\n",
       "    </tr>\n",
       "  </tbody>\n",
       "</table>\n",
       "</div>"
      ],
      "text/plain": [
       "                 id  pickup_longitude  pickup_latitude  dropoff_longitude  \\\n",
       "count  32366.000000      32366.000000     32366.000000       32366.000000   \n",
       "mean   16183.500000        -78.492371        -0.189042         -78.492901   \n",
       "std     9343.403743          0.043108         0.076153           0.044783   \n",
       "min        1.000000        -80.681697        -3.454279         -80.681721   \n",
       "25%     8092.250000        -78.505867        -0.218344         -78.505734   \n",
       "50%    16183.500000        -78.490135        -0.181979         -78.490073   \n",
       "75%    24274.750000        -78.475783        -0.148715         -78.477443   \n",
       "max    32366.000000        -78.009669         0.866441         -77.710158   \n",
       "\n",
       "       dropoff_latitude  trip_duration   dist_meters      wait_sec  \n",
       "count      32366.000000   3.236600e+04  3.236600e+04  3.236600e+04  \n",
       "mean          -0.191341   4.138239e+04  7.302745e+04  2.204058e+07  \n",
       "std            0.085623   5.842226e+05  1.193671e+07  7.311736e+08  \n",
       "min           -3.574739  -3.887110e+05  1.100000e+01  0.000000e+00  \n",
       "25%           -0.220508   5.000000e+02  2.148000e+03  1.070000e+02  \n",
       "50%           -0.185721   8.970000e+02  4.124000e+03  2.430000e+02  \n",
       "75%           -0.149867   1.710000e+03  7.475000e+03  4.990000e+02  \n",
       "max            0.866759   7.002605e+07  2.147484e+09  9.516306e+10  "
      ]
     },
     "execution_count": 5,
     "metadata": {},
     "output_type": "execute_result"
    }
   ],
   "source": [
    "df.describe()"
   ]
  },
  {
   "cell_type": "code",
   "execution_count": 6,
   "metadata": {},
   "outputs": [],
   "source": [
    "df.drop(['store_and_fwd_flag'],axis=1,inplace=True)"
   ]
  },
  {
   "cell_type": "code",
   "execution_count": 7,
   "metadata": {},
   "outputs": [
    {
     "data": {
      "text/plain": [
       "(32366, 11)"
      ]
     },
     "execution_count": 7,
     "metadata": {},
     "output_type": "execute_result"
    }
   ],
   "source": [
    "df.shape"
   ]
  },
  {
   "cell_type": "code",
   "execution_count": 8,
   "metadata": {},
   "outputs": [
    {
     "data": {
      "text/plain": [
       "id                   0\n",
       "vendor_id            0\n",
       "pickup_datetime      0\n",
       "dropoff_datetime     0\n",
       "pickup_longitude     0\n",
       "pickup_latitude      0\n",
       "dropoff_longitude    0\n",
       "dropoff_latitude     0\n",
       "trip_duration        0\n",
       "dist_meters          0\n",
       "wait_sec             0\n",
       "dtype: int64"
      ]
     },
     "execution_count": 8,
     "metadata": {},
     "output_type": "execute_result"
    }
   ],
   "source": [
    "df.isna().sum()"
   ]
  },
  {
   "cell_type": "code",
   "execution_count": 9,
   "metadata": {},
   "outputs": [
    {
     "name": "stdout",
     "output_type": "stream",
     "text": [
      "0:40:00\n",
      "810 days, 11:40:52\n",
      "-5 days, 12:01:29\n"
     ]
    }
   ],
   "source": [
    "import datetime\n",
    "\n",
    "def wait(sec):\n",
    "    return str(datetime.timedelta(seconds=sec))\n",
    "\n",
    "a=wait(2400)\n",
    "b=wait(70026052)\n",
    "c=wait(-388711)\n",
    "print(a)\n",
    "print(b)\n",
    "print(c)\n"
   ]
  },
  {
   "cell_type": "code",
   "execution_count": 10,
   "metadata": {},
   "outputs": [
    {
     "data": {
      "text/plain": [
       "-388711"
      ]
     },
     "execution_count": 10,
     "metadata": {},
     "output_type": "execute_result"
    }
   ],
   "source": [
    "df['trip_duration'].min()"
   ]
  },
  {
   "cell_type": "code",
   "execution_count": null,
   "metadata": {},
   "outputs": [],
   "source": []
  },
  {
   "cell_type": "code",
   "execution_count": 11,
   "metadata": {},
   "outputs": [
    {
     "data": {
      "text/plain": [
       "<matplotlib.axes._subplots.AxesSubplot at 0x169b9ea02b0>"
      ]
     },
     "execution_count": 11,
     "metadata": {},
     "output_type": "execute_result"
    },
    {
     "data": {
      "image/png": "[encoded data removed]",
      "text/plain": [
       "<Figure size 936x360 with 1 Axes>"
      ]
     },
     "metadata": {
      "needs_background": "light"
     },
     "output_type": "display_data"
    }
   ],
   "source": [
    "df.corr().plot(kind='bar',figsize=(13,5))"
   ]
  },
  {
   "cell_type": "code",
   "execution_count": 12,
   "metadata": {},
   "outputs": [
    {
     "data": {
      "text/plain": [
       "<matplotlib.axes._subplots.AxesSubplot at 0x169b915bd68>"
      ]
     },
     "execution_count": 12,
     "metadata": {},
     "output_type": "execute_result"
    },
    {
     "data": {
      "image/png": "[encoded data removed]",
      "text/plain": [
       "<Figure size 432x288 with 1 Axes>"
      ]
     },
     "metadata": {
      "needs_background": "light"
     },
     "output_type": "display_data"
    }
   ],
   "source": [
    "df['vendor_id'].value_counts().plot(kind='bar')"
   ]
  },
  {
   "cell_type": "code",
   "execution_count": 13,
   "metadata": {},
   "outputs": [
    {
     "data": {
      "text/plain": [
       "Quito                     31875\n",
       "Quito Cabify Lite           400\n",
       "Quito Cabify Executive       88\n",
       "Quito UberX                   3\n",
       "Name: vendor_id, dtype: int64"
      ]
     },
     "execution_count": 13,
     "metadata": {},
     "output_type": "execute_result"
    }
   ],
   "source": [
    "df['vendor_id'].value_counts()"
   ]
  },
  {
   "cell_type": "code",
   "execution_count": 14,
   "metadata": {},
   "outputs": [
    {
     "data": {
      "text/plain": [
       "<matplotlib.axes._subplots.AxesSubplot at 0x169b8fc0b38>"
      ]
     },
     "execution_count": 14,
     "metadata": {},
     "output_type": "execute_result"
    },
    {
     "data": {
      "image/png": "[encoded data removed]",
      "text/plain": [
       "<Figure size 432x288 with 1 Axes>"
      ]
     },
     "metadata": {
      "needs_background": "light"
     },
     "output_type": "display_data"
    }
   ],
   "source": [
    "df.corrwith(df['trip_duration']).plot(kind='bar')"
   ]
  },
  {
   "cell_type": "code",
   "execution_count": null,
   "metadata": {},
   "outputs": [],
   "source": []
  },
  {
   "cell_type": "code",
   "execution_count": 15,
   "metadata": {},
   "outputs": [
    {
     "data": {
      "text/html": [
       "<div>\n",
       "<style scoped>\n",
       "    .dataframe tbody tr th:only-of-type {\n",
       "        vertical-align: middle;\n",
       "    }\n",
       "\n",
       "    .dataframe tbody tr th {\n",
       "        vertical-align: top;\n",
       "    }\n",
       "\n",
       "    .dataframe thead th {\n",
       "        text-align: right;\n",
       "    }\n",
       "</style>\n",
       "<table border=\"1\" class=\"dataframe\">\n",
       "  <thead>\n",
       "    <tr style=\"text-align: right;\">\n",
       "      <th></th>\n",
       "      <th>id</th>\n",
       "      <th>vendor_id</th>\n",
       "      <th>pickup_datetime</th>\n",
       "      <th>dropoff_datetime</th>\n",
       "      <th>pickup_longitude</th>\n",
       "      <th>pickup_latitude</th>\n",
       "      <th>dropoff_longitude</th>\n",
       "      <th>dropoff_latitude</th>\n",
       "      <th>trip_duration</th>\n",
       "      <th>dist_meters</th>\n",
       "      <th>wait_sec</th>\n",
       "    </tr>\n",
       "  </thead>\n",
       "  <tbody>\n",
       "    <tr>\n",
       "      <th>0</th>\n",
       "      <td>1</td>\n",
       "      <td>Quito</td>\n",
       "      <td>2016-09-17 09:32:06</td>\n",
       "      <td>2016-09-17 10:05:51</td>\n",
       "      <td>-78.503922</td>\n",
       "      <td>-0.232824</td>\n",
       "      <td>-78.549447</td>\n",
       "      <td>-0.361363</td>\n",
       "      <td>2025</td>\n",
       "      <td>24228</td>\n",
       "      <td>346</td>\n",
       "    </tr>\n",
       "    <tr>\n",
       "      <th>1</th>\n",
       "      <td>2</td>\n",
       "      <td>Quito</td>\n",
       "      <td>2016-09-18 04:03:20</td>\n",
       "      <td>2016-09-18 04:26:30</td>\n",
       "      <td>-78.440306</td>\n",
       "      <td>0.006789</td>\n",
       "      <td>-78.490786</td>\n",
       "      <td>-0.104836</td>\n",
       "      <td>1390</td>\n",
       "      <td>16680</td>\n",
       "      <td>456</td>\n",
       "    </tr>\n",
       "    <tr>\n",
       "      <th>2</th>\n",
       "      <td>3</td>\n",
       "      <td>Quito</td>\n",
       "      <td>2016-09-16 06:29:36</td>\n",
       "      <td>2016-09-18 06:41:33</td>\n",
       "      <td>-78.469551</td>\n",
       "      <td>-0.143636</td>\n",
       "      <td>-78.470277</td>\n",
       "      <td>-0.131083</td>\n",
       "      <td>130317</td>\n",
       "      <td>1987</td>\n",
       "      <td>290</td>\n",
       "    </tr>\n",
       "    <tr>\n",
       "      <th>3</th>\n",
       "      <td>4</td>\n",
       "      <td>Quito</td>\n",
       "      <td>2016-09-18 05:57:47</td>\n",
       "      <td>2016-09-18 06:30:00</td>\n",
       "      <td>-78.558076</td>\n",
       "      <td>-0.278241</td>\n",
       "      <td>-78.430220</td>\n",
       "      <td>-0.201934</td>\n",
       "      <td>1933</td>\n",
       "      <td>25146</td>\n",
       "      <td>302</td>\n",
       "    </tr>\n",
       "    <tr>\n",
       "      <th>4</th>\n",
       "      <td>5</td>\n",
       "      <td>Quito</td>\n",
       "      <td>2016-09-18 07:58:42</td>\n",
       "      <td>2016-09-18 08:14:29</td>\n",
       "      <td>-78.521818</td>\n",
       "      <td>-0.208480</td>\n",
       "      <td>-78.504558</td>\n",
       "      <td>-0.222462</td>\n",
       "      <td>948</td>\n",
       "      <td>4625</td>\n",
       "      <td>314</td>\n",
       "    </tr>\n",
       "  </tbody>\n",
       "</table>\n",
       "</div>"
      ],
      "text/plain": [
       "   id vendor_id     pickup_datetime    dropoff_datetime  pickup_longitude  \\\n",
       "0   1     Quito 2016-09-17 09:32:06 2016-09-17 10:05:51        -78.503922   \n",
       "1   2     Quito 2016-09-18 04:03:20 2016-09-18 04:26:30        -78.440306   \n",
       "2   3     Quito 2016-09-16 06:29:36 2016-09-18 06:41:33        -78.469551   \n",
       "3   4     Quito 2016-09-18 05:57:47 2016-09-18 06:30:00        -78.558076   \n",
       "4   5     Quito 2016-09-18 07:58:42 2016-09-18 08:14:29        -78.521818   \n",
       "\n",
       "   pickup_latitude  dropoff_longitude  dropoff_latitude  trip_duration  \\\n",
       "0        -0.232824         -78.549447         -0.361363           2025   \n",
       "1         0.006789         -78.490786         -0.104836           1390   \n",
       "2        -0.143636         -78.470277         -0.131083         130317   \n",
       "3        -0.278241         -78.430220         -0.201934           1933   \n",
       "4        -0.208480         -78.504558         -0.222462            948   \n",
       "\n",
       "   dist_meters  wait_sec  \n",
       "0        24228       346  \n",
       "1        16680       456  \n",
       "2         1987       290  \n",
       "3        25146       302  \n",
       "4         4625       314  "
      ]
     },
     "execution_count": 15,
     "metadata": {},
     "output_type": "execute_result"
    }
   ],
   "source": [
    "df.head()"
   ]
  },
  {
   "cell_type": "code",
   "execution_count": 16,
   "metadata": {},
   "outputs": [
    {
     "data": {
      "text/plain": [
       "11119"
      ]
     },
     "execution_count": 16,
     "metadata": {},
     "output_type": "execute_result"
    }
   ],
   "source": [
    "df['dropoff_datetime'].idxmax()"
   ]
  },
  {
   "cell_type": "code",
   "execution_count": 17,
   "metadata": {},
   "outputs": [],
   "source": [
    "df['hour']=df['pickup_datetime'].dt.hour\n",
    "df['month']=df['pickup_datetime'].dt.month\n",
    "df['year']=df['pickup_datetime'].dt.year\n",
    "df['day']=df['pickup_datetime'].dt.day"
   ]
  },
  {
   "cell_type": "code",
   "execution_count": 18,
   "metadata": {},
   "outputs": [
    {
     "data": {
      "text/plain": [
       "array([2016, 2017, 2014], dtype=int64)"
      ]
     },
     "execution_count": 18,
     "metadata": {},
     "output_type": "execute_result"
    }
   ],
   "source": [
    "df['year'].unique()"
   ]
  },
  {
   "cell_type": "code",
   "execution_count": 19,
   "metadata": {},
   "outputs": [
    {
     "data": {
      "text/plain": [
       "Text(0.5, 1.0, 'rides per month')"
      ]
     },
     "execution_count": 19,
     "metadata": {},
     "output_type": "execute_result"
    },
    {
     "data": {
      "image/png": "[encoded data removed]",
      "text/plain": [
       "<Figure size 432x288 with 1 Axes>"
      ]
     },
     "metadata": {
      "needs_background": "light"
     },
     "output_type": "display_data"
    }
   ],
   "source": [
    "d=df['month'].value_counts()\n",
    "sns.barplot(d.index,d.values)\n",
    "plt.xlabel('month')\n",
    "plt.ylabel('frequency')\n",
    "plt.title('rides per month')"
   ]
  },
  {
   "cell_type": "code",
   "execution_count": 20,
   "metadata": {},
   "outputs": [
    {
     "data": {
      "text/plain": [
       "Text(0.5, 1.0, 'yearly rides')"
      ]
     },
     "execution_count": 20,
     "metadata": {},
     "output_type": "execute_result"
    },
    {
     "data": {
      "image/png": "[encoded data removed]",
      "text/plain": [
       "<Figure size 432x288 with 1 Axes>"
      ]
     },
     "metadata": {
      "needs_background": "light"
     },
     "output_type": "display_data"
    }
   ],
   "source": [
    "df['year'].value_counts().plot(kind='bar')\n",
    "plt.xlabel('year')\n",
    "plt.ylabel('frequency')\n",
    "plt.title('yearly rides')"
   ]
  },
  {
   "cell_type": "code",
   "execution_count": 21,
   "metadata": {},
   "outputs": [
    {
     "data": {
      "text/plain": [
       "Text(0.5, 1.0, 'ride hours in both the years')"
      ]
     },
     "execution_count": 21,
     "metadata": {},
     "output_type": "execute_result"
    },
    {
     "data": {
      "image/png": "[encoded data removed]",
      "text/plain": [
       "<Figure size 432x288 with 1 Axes>"
      ]
     },
     "metadata": {
      "needs_background": "light"
     },
     "output_type": "display_data"
    }
   ],
   "source": [
    "df['hour'].value_counts().plot(kind='bar')\n",
    "plt.xlabel('ride hour')\n",
    "plt.ylabel('frequency')\n",
    "plt.title('ride hours in both the years')"
   ]
  },
  {
   "cell_type": "code",
   "execution_count": 26,
   "metadata": {},
   "outputs": [
    {
     "data": {
      "text/plain": [
       "Text(0.5, 1.0, 'year 2016')"
      ]
     },
     "execution_count": 26,
     "metadata": {},
     "output_type": "execute_result"
    },
    {
     "data": {
      "image/png": "[encoded data removed]",
      "text/plain": [
       "<Figure size 432x288 with 1 Axes>"
      ]
     },
     "metadata": {
      "needs_background": "light"
     },
     "output_type": "display_data"
    }
   ],
   "source": [
    "day=y6['month'].value_counts()\n",
    "fig1=sns.barplot(day.index,day.values)\n",
    "plt.title(\"year 2016\")"
   ]
  },
  {
   "cell_type": "code",
   "execution_count": 23,
   "metadata": {},
   "outputs": [],
   "source": [
    "uio=df[df['vendor_id']=='Quito']\n",
    "uio_cl=df[df['vendor_id']=='Quito Cabify Lite']\n",
    "uio_ce=df[df['vendor_id']=='Quito Cabify Executive']"
   ]
  },
  {
   "cell_type": "code",
   "execution_count": 24,
   "metadata": {},
   "outputs": [
    {
     "data": {
      "text/plain": [
       "<matplotlib.legend.Legend at 0x169b9788358>"
      ]
     },
     "execution_count": 24,
     "metadata": {},
     "output_type": "execute_result"
    },
    {
     "data": {
      "image/png": "[encoded data removed]",
      "text/plain": [
       "<Figure size 1080x360 with 2 Axes>"
      ]
     },
     "metadata": {
      "needs_background": "light"
     },
     "output_type": "display_data"
    }
   ],
   "source": [
    "plt.figure(figsize=(15,5))\n",
    "plt.subplot(121)\n",
    "plt.scatter(uio['pickup_latitude'],uio['pickup_longitude'],s=100,marker='>',label='Quito')\n",
    "plt.scatter(uio_cl['pickup_latitude'],uio_cl['pickup_longitude'],s=100,marker='>',label='Quito Cabify Lite')\n",
    "plt.scatter(uio_ce['pickup_latitude'],uio_ce['pickup_longitude'],s=100,marker='>',label='Quito Cabify Executive')\n",
    "plt.title(\"location of all pickup rides\")\n",
    "plt.ylabel('pickup longitude')\n",
    "plt.xlabel('pickup latitude')\n",
    "plt.grid(True)\n",
    "plt.legend()\n",
    "\n",
    "\n",
    "plt.subplot(122)\n",
    "plt.scatter(uio['dropoff_latitude'],uio['dropoff_longitude'],s=100,label='Quito',marker='+')\n",
    "plt.scatter(uio_cl['dropoff_latitude'],uio_cl['dropoff_longitude'],s=100,label='Quito Cabify Lite',marker='+')\n",
    "plt.scatter(uio_ce['dropoff_latitude'],uio_ce['dropoff_longitude'],s=100,label='Quito Cabify Executive',marker='+')\n",
    "plt.title(\"location of all dropoff rides\")\n",
    "plt.ylabel('dropoff londitude')\n",
    "plt.xlabel('dropoff latitude')\n",
    "plt.grid(True)\n",
    "plt.legend()"
   ]
  },
  {
   "cell_type": "code",
   "execution_count": 25,
   "metadata": {},
   "outputs": [],
   "source": [
    "y6=df[df['year']==2016]\n",
    "y7=df[df['year']==2017]\n",
    "\n",
    "uio1=y6[y6['vendor_id']=='Quito']\n",
    "uio_cl1=y6[y6['vendor_id']=='Quito Cabify Lite']\n",
    "uio_ce1=y6[y6['vendor_id']=='Quito Cabify Executive']\n",
    "\n",
    "uio2=y7[y7['vendor_id']=='Quito']\n",
    "uio_cl2=y7[y7['vendor_id']=='Quito Cabify Lite']\n",
    "uio_ce2=y7[y7['vendor_id']=='Quito Cabify Executive']"
   ]
  },
  {
   "cell_type": "code",
   "execution_count": 27,
   "metadata": {},
   "outputs": [
    {
     "name": "stdout",
     "output_type": "stream",
     "text": [
      "months in 2016\n"
     ]
    },
    {
     "data": {
      "text/plain": [
       "array([ 9,  8,  5,  7,  6, 11, 12, 10], dtype=int64)"
      ]
     },
     "execution_count": 27,
     "metadata": {},
     "output_type": "execute_result"
    }
   ],
   "source": [
    "print('months in 2016')\n",
    "y6['month'].unique()\n"
   ]
  },
  {
   "cell_type": "code",
   "execution_count": 28,
   "metadata": {},
   "outputs": [
    {
     "name": "stdout",
     "output_type": "stream",
     "text": [
      "months in 2017\n"
     ]
    },
    {
     "data": {
      "text/plain": [
       "array([4, 1, 3, 5, 2, 7, 6, 8], dtype=int64)"
      ]
     },
     "execution_count": 28,
     "metadata": {},
     "output_type": "execute_result"
    }
   ],
   "source": [
    "print('months in 2017')\n",
    "y7['month'].unique()"
   ]
  },
  {
   "cell_type": "code",
   "execution_count": 29,
   "metadata": {},
   "outputs": [
    {
     "name": "stdout",
     "output_type": "stream",
     "text": [
      "shape of y6 (14679, 15)\n",
      "shape of 2017 (17686, 15)\n",
      "\n",
      "\n",
      "shape of quito 2016 (14646, 15)\n",
      "shape of quito cabify lie 2016 (27, 15)\n",
      "shape of quito cabify executive 2016 (6, 15)\n",
      "\n",
      "\n",
      "shape of quito 2017 (17228, 15)\n",
      "shape of quito cabify lie 2017 (373, 15)\n",
      "shape of quito cabify executive 2017 (82, 15)\n"
     ]
    }
   ],
   "source": [
    "print('shape of y6',y6.shape)\n",
    "print('shape of 2017',y7.shape)\n",
    "print('\\n')\n",
    "\n",
    "print('shape of quito 2016',uio1.shape)\n",
    "print('shape of quito cabify lie 2016',uio_cl1.shape)\n",
    "print('shape of quito cabify executive 2016',uio_ce1.shape)\n",
    "print('\\n')\n",
    "print('shape of quito 2017',uio2.shape)\n",
    "print('shape of quito cabify lie 2017',uio_cl2.shape)\n",
    "print('shape of quito cabify executive 2017',uio_ce2.shape)"
   ]
  },
  {
   "cell_type": "code",
   "execution_count": 30,
   "metadata": {},
   "outputs": [
    {
     "data": {
      "text/plain": [
       "<matplotlib.legend.Legend at 0x169ba000710>"
      ]
     },
     "execution_count": 30,
     "metadata": {},
     "output_type": "execute_result"
    },
    {
     "data": {
      "image/png": "[encoded data removed]",
      "text/plain": [
       "<Figure size 1080x720 with 4 Axes>"
      ]
     },
     "metadata": {
      "needs_background": "light"
     },
     "output_type": "display_data"
    }
   ],
   "source": [
    "plt.figure(figsize=(15,10))\n",
    "plt.subplot(221)\n",
    "plt.scatter(uio1['pickup_latitude'],uio1['pickup_longitude'],s=100,marker='>',label='Quito')\n",
    "plt.scatter(uio_cl1['pickup_latitude'],uio_cl1['pickup_longitude'],s=100,marker='>',label='Quito Cabify Lite')\n",
    "plt.scatter(uio_ce1['pickup_latitude'],uio_ce1['pickup_longitude'],s=100,marker='>',label='Quito Cabify Executive')\n",
    "plt.title(\"location of all pickup rides of 2016\")\n",
    "plt.ylabel('pickup longitude')\n",
    "plt.xlabel('pickup latitude')\n",
    "plt.grid(True)\n",
    "plt.legend()\n",
    "\n",
    "\n",
    "plt.subplot(222)\n",
    "plt.scatter(uio1['dropoff_latitude'],uio1['dropoff_longitude'],s=100,label='Quito',marker='+')\n",
    "plt.scatter(uio_cl1['dropoff_latitude'],uio_cl1['dropoff_longitude'],s=100,label='Quito Cabify Lite',marker='+')\n",
    "plt.scatter(uio_ce1['dropoff_latitude'],uio_ce1['dropoff_longitude'],s=100,label='Quito Cabify Executive',marker='+')\n",
    "plt.title(\"location of all dropoff rides of 2016\")\n",
    "plt.ylabel('dropoff londitude')\n",
    "plt.xlabel('dropoff latitude')\n",
    "plt.grid(True)\n",
    "plt.legend()\n",
    "\n",
    "plt.subplot(223)\n",
    "plt.scatter(uio2['pickup_latitude'],uio2['pickup_longitude'],s=100,marker='>',label='Quito')\n",
    "plt.scatter(uio_cl2['pickup_latitude'],uio_cl2['pickup_longitude'],s=100,marker='>',label='Quito Cabify Lite')\n",
    "plt.scatter(uio_ce2['pickup_latitude'],uio_ce2['pickup_longitude'],s=100,marker='>',label='Quito Cabify Executive')\n",
    "plt.title(\"location of all pickup rides of 2017\")\n",
    "plt.ylabel('pickup longitude')\n",
    "plt.xlabel('pickup latitude')\n",
    "plt.grid(True)\n",
    "plt.legend()\n",
    "\n",
    "\n",
    "plt.subplot(224)\n",
    "plt.scatter(uio2['dropoff_latitude'],uio2['dropoff_longitude'],s=100,label='Quito',marker='+')\n",
    "plt.scatter(uio_cl2['dropoff_latitude'],uio_cl2['dropoff_longitude'],s=100,label='Quito Cabify Lite',marker='+')\n",
    "plt.scatter(uio_ce2['dropoff_latitude'],uio_ce2['dropoff_longitude'],s=100,label='Quito Cabify Executive',marker='+')\n",
    "plt.title(\"location of all dropoff rides of 2017\")\n",
    "plt.ylabel('dropoff londitude')\n",
    "plt.xlabel('dropoff latitude')\n",
    "plt.grid(True)\n",
    "plt.legend()"
   ]
  },
  {
   "cell_type": "code",
   "execution_count": 31,
   "metadata": {},
   "outputs": [
    {
     "data": {
      "text/plain": [
       "Text(0.5, 0, 'hour rides')"
      ]
     },
     "execution_count": 31,
     "metadata": {},
     "output_type": "execute_result"
    },
    {
     "data": {
      "image/png": "[encoded data removed]",
      "text/plain": [
       "<Figure size 1080x720 with 6 Axes>"
      ]
     },
     "metadata": {
      "needs_background": "light"
     },
     "output_type": "display_data"
    }
   ],
   "source": [
    "plt.figure(figsize=(15,10))\n",
    "plt.subplot(321)\n",
    "day=y6['month'].value_counts()\n",
    "fig1=sns.barplot(day.index,day.values)\n",
    "plt.xlabel(\"monthly rides\")\n",
    "plt.title(\"year 2016\")\n",
    "\n",
    "plt.subplot(322)\n",
    "day=y7['month'].value_counts()\n",
    "fig1=sns.barplot(day.index,day.values)\n",
    "plt.xlabel(\"monthly rides\")\n",
    "plt.title(\"year 2017\")\n",
    "\n",
    "plt.subplot(323)\n",
    "day=y6['day'].value_counts()\n",
    "fig1=sns.barplot(day.index,day.values)\n",
    "plt.xlabel(\"day rides\")\n",
    "\n",
    "plt.subplot(324)\n",
    "day=y7['day'].value_counts()\n",
    "fig1=sns.barplot(day.index,day.values)\n",
    "plt.xlabel(\"day rides\")\n",
    "\n",
    "plt.subplot(325)\n",
    "day=y6['hour'].value_counts()\n",
    "fig1=sns.barplot(day.index,day.values)\n",
    "plt.xlabel(\"hour rides\")\n",
    "\n",
    "plt.subplot(326)\n",
    "day=y7['hour'].value_counts()\n",
    "fig1=sns.barplot(day.index,day.values)\n",
    "plt.xlabel(\"hour rides\")"
   ]
  },
  {
   "cell_type": "code",
   "execution_count": 32,
   "metadata": {},
   "outputs": [
    {
     "data": {
      "text/plain": [
       "(23520, 15)"
      ]
     },
     "execution_count": 32,
     "metadata": {},
     "output_type": "execute_result"
    }
   ],
   "source": [
    "df=df[df['trip_duration'].between(30,7200)]\n",
    "df=df[df['wait_sec'].between(0,2400)]\n",
    "df=df[df['trip_duration'] > df['wait_sec']]\n",
    "df=df[df['dist_meters'].between(100,10000)]\n",
    "\n",
    "df=df[(df['pickup_longitude'].between(-78.65,-78.25)) & (df['pickup_latitude'].between(-0.7,0.3))]\n",
    "df=df[(df['dropoff_longitude'].between(-78.65,-78.25)) & (df['dropoff_latitude'].between(-0.7,0.3))]\n",
    "\n",
    "df.shape"
   ]
  },
  {
   "cell_type": "code",
   "execution_count": 33,
   "metadata": {},
   "outputs": [
    {
     "data": {
      "text/html": [
       "<div>\n",
       "<style scoped>\n",
       "    .dataframe tbody tr th:only-of-type {\n",
       "        vertical-align: middle;\n",
       "    }\n",
       "\n",
       "    .dataframe tbody tr th {\n",
       "        vertical-align: top;\n",
       "    }\n",
       "\n",
       "    .dataframe thead th {\n",
       "        text-align: right;\n",
       "    }\n",
       "</style>\n",
       "<table border=\"1\" class=\"dataframe\">\n",
       "  <thead>\n",
       "    <tr style=\"text-align: right;\">\n",
       "      <th></th>\n",
       "      <th>id</th>\n",
       "      <th>vendor_id</th>\n",
       "      <th>pickup_datetime</th>\n",
       "      <th>dropoff_datetime</th>\n",
       "      <th>pickup_longitude</th>\n",
       "      <th>pickup_latitude</th>\n",
       "      <th>dropoff_longitude</th>\n",
       "      <th>dropoff_latitude</th>\n",
       "      <th>trip_duration</th>\n",
       "      <th>dist_meters</th>\n",
       "      <th>wait_sec</th>\n",
       "      <th>hour</th>\n",
       "      <th>month</th>\n",
       "      <th>year</th>\n",
       "      <th>day</th>\n",
       "    </tr>\n",
       "  </thead>\n",
       "  <tbody>\n",
       "    <tr>\n",
       "      <th>4</th>\n",
       "      <td>5</td>\n",
       "      <td>Quito</td>\n",
       "      <td>2016-09-18 07:58:42</td>\n",
       "      <td>2016-09-18 08:14:29</td>\n",
       "      <td>-78.521818</td>\n",
       "      <td>-0.208480</td>\n",
       "      <td>-78.504558</td>\n",
       "      <td>-0.222462</td>\n",
       "      <td>948</td>\n",
       "      <td>4625</td>\n",
       "      <td>314</td>\n",
       "      <td>7</td>\n",
       "      <td>9</td>\n",
       "      <td>2016</td>\n",
       "      <td>18</td>\n",
       "    </tr>\n",
       "    <tr>\n",
       "      <th>5</th>\n",
       "      <td>6</td>\n",
       "      <td>Quito</td>\n",
       "      <td>2016-08-27 04:19:02</td>\n",
       "      <td>2016-08-27 04:44:12</td>\n",
       "      <td>-78.509202</td>\n",
       "      <td>-0.194839</td>\n",
       "      <td>-78.518764</td>\n",
       "      <td>-0.228794</td>\n",
       "      <td>1510</td>\n",
       "      <td>5820</td>\n",
       "      <td>630</td>\n",
       "      <td>4</td>\n",
       "      <td>8</td>\n",
       "      <td>2016</td>\n",
       "      <td>27</td>\n",
       "    </tr>\n",
       "    <tr>\n",
       "      <th>6</th>\n",
       "      <td>7</td>\n",
       "      <td>Quito</td>\n",
       "      <td>2016-09-18 10:08:57</td>\n",
       "      <td>2016-09-18 10:31:18</td>\n",
       "      <td>-78.481542</td>\n",
       "      <td>-0.154317</td>\n",
       "      <td>-78.518420</td>\n",
       "      <td>-0.191547</td>\n",
       "      <td>1341</td>\n",
       "      <td>7593</td>\n",
       "      <td>510</td>\n",
       "      <td>10</td>\n",
       "      <td>9</td>\n",
       "      <td>2016</td>\n",
       "      <td>18</td>\n",
       "    </tr>\n",
       "    <tr>\n",
       "      <th>8</th>\n",
       "      <td>9</td>\n",
       "      <td>Quito</td>\n",
       "      <td>2016-09-18 11:54:04</td>\n",
       "      <td>2016-09-18 12:12:23</td>\n",
       "      <td>-78.361079</td>\n",
       "      <td>-0.124644</td>\n",
       "      <td>-78.392735</td>\n",
       "      <td>-0.089407</td>\n",
       "      <td>1100</td>\n",
       "      <td>8150</td>\n",
       "      <td>390</td>\n",
       "      <td>11</td>\n",
       "      <td>9</td>\n",
       "      <td>2016</td>\n",
       "      <td>18</td>\n",
       "    </tr>\n",
       "    <tr>\n",
       "      <th>9</th>\n",
       "      <td>10</td>\n",
       "      <td>Quito</td>\n",
       "      <td>2016-09-18 12:21:16</td>\n",
       "      <td>2016-09-18 12:23:05</td>\n",
       "      <td>-78.497122</td>\n",
       "      <td>-0.200376</td>\n",
       "      <td>-78.499757</td>\n",
       "      <td>-0.207293</td>\n",
       "      <td>109</td>\n",
       "      <td>827</td>\n",
       "      <td>29</td>\n",
       "      <td>12</td>\n",
       "      <td>9</td>\n",
       "      <td>2016</td>\n",
       "      <td>18</td>\n",
       "    </tr>\n",
       "  </tbody>\n",
       "</table>\n",
       "</div>"
      ],
      "text/plain": [
       "   id vendor_id     pickup_datetime    dropoff_datetime  pickup_longitude  \\\n",
       "4   5     Quito 2016-09-18 07:58:42 2016-09-18 08:14:29        -78.521818   \n",
       "5   6     Quito 2016-08-27 04:19:02 2016-08-27 04:44:12        -78.509202   \n",
       "6   7     Quito 2016-09-18 10:08:57 2016-09-18 10:31:18        -78.481542   \n",
       "8   9     Quito 2016-09-18 11:54:04 2016-09-18 12:12:23        -78.361079   \n",
       "9  10     Quito 2016-09-18 12:21:16 2016-09-18 12:23:05        -78.497122   \n",
       "\n",
       "   pickup_latitude  dropoff_longitude  dropoff_latitude  trip_duration  \\\n",
       "4        -0.208480         -78.504558         -0.222462            948   \n",
       "5        -0.194839         -78.518764         -0.228794           1510   \n",
       "6        -0.154317         -78.518420         -0.191547           1341   \n",
       "8        -0.124644         -78.392735         -0.089407           1100   \n",
       "9        -0.200376         -78.499757         -0.207293            109   \n",
       "\n",
       "   dist_meters  wait_sec  hour  month  year  day  \n",
       "4         4625       314     7      9  2016   18  \n",
       "5         5820       630     4      8  2016   27  \n",
       "6         7593       510    10      9  2016   18  \n",
       "8         8150       390    11      9  2016   18  \n",
       "9          827        29    12      9  2016   18  "
      ]
     },
     "execution_count": 33,
     "metadata": {},
     "output_type": "execute_result"
    }
   ],
   "source": [
    "df.head(5)"
   ]
  },
  {
   "cell_type": "code",
   "execution_count": 34,
   "metadata": {},
   "outputs": [],
   "source": [
    "from sklearn.model_selection import train_test_split\n",
    "from sklearn.linear_model import LinearRegression\n",
    "from sklearn.preprocessing import StandardScaler"
   ]
  },
  {
   "cell_type": "code",
   "execution_count": 35,
   "metadata": {},
   "outputs": [],
   "source": [
    "x=df[['wait_sec','dist_meters']]\n",
    "y=df['trip_duration']"
   ]
  },
  {
   "cell_type": "code",
   "execution_count": 36,
   "metadata": {},
   "outputs": [],
   "source": [
    "xtrain,xtest,ytrain,ytest=train_test_split(x,y,test_size=0.2,random_state=50)"
   ]
  },
  {
   "cell_type": "code",
   "execution_count": 37,
   "metadata": {},
   "outputs": [],
   "source": [
    "sc=StandardScaler()\n",
    "xtrain=sc.fit_transform(xtrain)\n",
    "xtest=sc.transform(xtest)"
   ]
  },
  {
   "cell_type": "code",
   "execution_count": 38,
   "metadata": {},
   "outputs": [
    {
     "data": {
      "text/plain": [
       "LinearRegression(copy_X=True, fit_intercept=True, n_jobs=1, normalize=False)"
      ]
     },
     "execution_count": 38,
     "metadata": {},
     "output_type": "execute_result"
    }
   ],
   "source": [
    "regressor=LinearRegression()\n",
    "regressor.fit(xtrain,ytrain)"
   ]
  },
  {
   "cell_type": "code",
   "execution_count": 39,
   "metadata": {},
   "outputs": [
    {
     "name": "stdout",
     "output_type": "stream",
     "text": [
      "score 48.93757777948791\n"
     ]
    }
   ],
   "source": [
    "result=regressor.score(xtest,ytest)\n",
    "print('score',result*100)"
   ]
  },
  {
   "cell_type": "markdown",
   "metadata": {},
   "source": [
    "## linear"
   ]
  },
  {
   "cell_type": "code",
   "execution_count": 60,
   "metadata": {},
   "outputs": [],
   "source": [
    "w=df[['wait_sec']]\n",
    "t=df['trip_duration']"
   ]
  },
  {
   "cell_type": "code",
   "execution_count": 61,
   "metadata": {},
   "outputs": [
    {
     "data": {
      "text/plain": [
       "LinearRegression(copy_X=True, fit_intercept=True, n_jobs=1, normalize=False)"
      ]
     },
     "execution_count": 61,
     "metadata": {},
     "output_type": "execute_result"
    }
   ],
   "source": [
    "regres=LinearRegression()\n",
    "regres.fit(w,t)"
   ]
  },
  {
   "cell_type": "code",
   "execution_count": 62,
   "metadata": {},
   "outputs": [
    {
     "data": {
      "text/plain": [
       "array([1.40913238])"
      ]
     },
     "execution_count": 62,
     "metadata": {},
     "output_type": "execute_result"
    }
   ],
   "source": [
    "regres.coef_"
   ]
  },
  {
   "cell_type": "code",
   "execution_count": 63,
   "metadata": {},
   "outputs": [
    {
     "data": {
      "text/plain": [
       "479.32181058719465"
      ]
     },
     "execution_count": 63,
     "metadata": {},
     "output_type": "execute_result"
    }
   ],
   "source": [
    "regres.intercept_"
   ]
  },
  {
   "cell_type": "code",
   "execution_count": 64,
   "metadata": {},
   "outputs": [
    {
     "data": {
      "text/plain": [
       "array([1367.07520813])"
      ]
     },
     "execution_count": 64,
     "metadata": {},
     "output_type": "execute_result"
    }
   ],
   "source": [
    "regres.predict([[630]])"
   ]
  },
  {
   "cell_type": "code",
   "execution_count": 65,
   "metadata": {},
   "outputs": [
    {
     "data": {
      "text/html": [
       "<div>\n",
       "<style scoped>\n",
       "    .dataframe tbody tr th:only-of-type {\n",
       "        vertical-align: middle;\n",
       "    }\n",
       "\n",
       "    .dataframe tbody tr th {\n",
       "        vertical-align: top;\n",
       "    }\n",
       "\n",
       "    .dataframe thead th {\n",
       "        text-align: right;\n",
       "    }\n",
       "</style>\n",
       "<table border=\"1\" class=\"dataframe\">\n",
       "  <thead>\n",
       "    <tr style=\"text-align: right;\">\n",
       "      <th></th>\n",
       "      <th>id</th>\n",
       "      <th>vendor_id</th>\n",
       "      <th>pickup_datetime</th>\n",
       "      <th>dropoff_datetime</th>\n",
       "      <th>pickup_longitude</th>\n",
       "      <th>pickup_latitude</th>\n",
       "      <th>dropoff_longitude</th>\n",
       "      <th>dropoff_latitude</th>\n",
       "      <th>trip_duration</th>\n",
       "      <th>dist_meters</th>\n",
       "      <th>wait_sec</th>\n",
       "      <th>hour</th>\n",
       "      <th>month</th>\n",
       "      <th>year</th>\n",
       "      <th>day</th>\n",
       "    </tr>\n",
       "  </thead>\n",
       "  <tbody>\n",
       "    <tr>\n",
       "      <th>4</th>\n",
       "      <td>5</td>\n",
       "      <td>Quito</td>\n",
       "      <td>2016-09-18 07:58:42</td>\n",
       "      <td>2016-09-18 08:14:29</td>\n",
       "      <td>-78.521818</td>\n",
       "      <td>-0.208480</td>\n",
       "      <td>-78.504558</td>\n",
       "      <td>-0.222462</td>\n",
       "      <td>948</td>\n",
       "      <td>4625</td>\n",
       "      <td>314</td>\n",
       "      <td>7</td>\n",
       "      <td>9</td>\n",
       "      <td>2016</td>\n",
       "      <td>18</td>\n",
       "    </tr>\n",
       "    <tr>\n",
       "      <th>5</th>\n",
       "      <td>6</td>\n",
       "      <td>Quito</td>\n",
       "      <td>2016-08-27 04:19:02</td>\n",
       "      <td>2016-08-27 04:44:12</td>\n",
       "      <td>-78.509202</td>\n",
       "      <td>-0.194839</td>\n",
       "      <td>-78.518764</td>\n",
       "      <td>-0.228794</td>\n",
       "      <td>1510</td>\n",
       "      <td>5820</td>\n",
       "      <td>630</td>\n",
       "      <td>4</td>\n",
       "      <td>8</td>\n",
       "      <td>2016</td>\n",
       "      <td>27</td>\n",
       "    </tr>\n",
       "    <tr>\n",
       "      <th>6</th>\n",
       "      <td>7</td>\n",
       "      <td>Quito</td>\n",
       "      <td>2016-09-18 10:08:57</td>\n",
       "      <td>2016-09-18 10:31:18</td>\n",
       "      <td>-78.481542</td>\n",
       "      <td>-0.154317</td>\n",
       "      <td>-78.518420</td>\n",
       "      <td>-0.191547</td>\n",
       "      <td>1341</td>\n",
       "      <td>7593</td>\n",
       "      <td>510</td>\n",
       "      <td>10</td>\n",
       "      <td>9</td>\n",
       "      <td>2016</td>\n",
       "      <td>18</td>\n",
       "    </tr>\n",
       "    <tr>\n",
       "      <th>8</th>\n",
       "      <td>9</td>\n",
       "      <td>Quito</td>\n",
       "      <td>2016-09-18 11:54:04</td>\n",
       "      <td>2016-09-18 12:12:23</td>\n",
       "      <td>-78.361079</td>\n",
       "      <td>-0.124644</td>\n",
       "      <td>-78.392735</td>\n",
       "      <td>-0.089407</td>\n",
       "      <td>1100</td>\n",
       "      <td>8150</td>\n",
       "      <td>390</td>\n",
       "      <td>11</td>\n",
       "      <td>9</td>\n",
       "      <td>2016</td>\n",
       "      <td>18</td>\n",
       "    </tr>\n",
       "    <tr>\n",
       "      <th>9</th>\n",
       "      <td>10</td>\n",
       "      <td>Quito</td>\n",
       "      <td>2016-09-18 12:21:16</td>\n",
       "      <td>2016-09-18 12:23:05</td>\n",
       "      <td>-78.497122</td>\n",
       "      <td>-0.200376</td>\n",
       "      <td>-78.499757</td>\n",
       "      <td>-0.207293</td>\n",
       "      <td>109</td>\n",
       "      <td>827</td>\n",
       "      <td>29</td>\n",
       "      <td>12</td>\n",
       "      <td>9</td>\n",
       "      <td>2016</td>\n",
       "      <td>18</td>\n",
       "    </tr>\n",
       "  </tbody>\n",
       "</table>\n",
       "</div>"
      ],
      "text/plain": [
       "   id vendor_id     pickup_datetime    dropoff_datetime  pickup_longitude  \\\n",
       "4   5     Quito 2016-09-18 07:58:42 2016-09-18 08:14:29        -78.521818   \n",
       "5   6     Quito 2016-08-27 04:19:02 2016-08-27 04:44:12        -78.509202   \n",
       "6   7     Quito 2016-09-18 10:08:57 2016-09-18 10:31:18        -78.481542   \n",
       "8   9     Quito 2016-09-18 11:54:04 2016-09-18 12:12:23        -78.361079   \n",
       "9  10     Quito 2016-09-18 12:21:16 2016-09-18 12:23:05        -78.497122   \n",
       "\n",
       "   pickup_latitude  dropoff_longitude  dropoff_latitude  trip_duration  \\\n",
       "4        -0.208480         -78.504558         -0.222462            948   \n",
       "5        -0.194839         -78.518764         -0.228794           1510   \n",
       "6        -0.154317         -78.518420         -0.191547           1341   \n",
       "8        -0.124644         -78.392735         -0.089407           1100   \n",
       "9        -0.200376         -78.499757         -0.207293            109   \n",
       "\n",
       "   dist_meters  wait_sec  hour  month  year  day  \n",
       "4         4625       314     7      9  2016   18  \n",
       "5         5820       630     4      8  2016   27  \n",
       "6         7593       510    10      9  2016   18  \n",
       "8         8150       390    11      9  2016   18  \n",
       "9          827        29    12      9  2016   18  "
      ]
     },
     "execution_count": 65,
     "metadata": {},
     "output_type": "execute_result"
    }
   ],
   "source": [
    "df.head()"
   ]
  },
  {
   "cell_type": "code",
   "execution_count": 66,
   "metadata": {},
   "outputs": [
    {
     "name": "stdout",
     "output_type": "stream",
     "text": [
      "score 35.779283304466034\n"
     ]
    }
   ],
   "source": [
    "result=regres.score(w,t)\n",
    "print('score',result*100)"
   ]
  },
  {
   "cell_type": "code",
   "execution_count": null,
   "metadata": {},
   "outputs": [],
   "source": []
  },
  {
   "cell_type": "code",
   "execution_count": null,
   "metadata": {},
   "outputs": [],
   "source": []
  }
 ],
 "metadata": {
  "kernelspec": {
   "display_name": "Python 3",
   "language": "python",
   "name": "python3"
  },
  "language_info": {
   "codemirror_mode": {
    "name": "ipython",
    "version": 3
   },
   "file_extension": ".py",
   "mimetype": "text/x-python",
   "name": "python",
   "nbconvert_exporter": "python",
   "pygments_lexer": "ipython3",
   "version": "3.8.3"
  }
 },
 "nbformat": 4,
 "nbformat_minor": 4
}
